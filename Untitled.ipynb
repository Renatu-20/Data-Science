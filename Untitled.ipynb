{
  "nbformat": 4,
  "nbformat_minor": 0,
  "metadata": {
    "colab": {
      "provenance": [],
      "authorship_tag": "ABX9TyNkAyRdCPwbOq/ZyPGSsbA2",
      "include_colab_link": true
    },
    "kernelspec": {
      "name": "python3",
      "display_name": "Python 3"
    },
    "language_info": {
      "name": "python"
    }
  },
  "cells": [
    {
      "cell_type": "markdown",
      "metadata": {
        "id": "view-in-github",
        "colab_type": "text"
      },
      "source": [
        "<a href=\"https://colab.research.google.com/github/Renatu-20/Data-Science/blob/main/Untitled.ipynb\" target=\"_parent\"><img src=\"https://colab.research.google.com/assets/colab-badge.svg\" alt=\"Open In Colab\"/></a>"
      ]
    },
    {
      "cell_type": "markdown",
      "source": [
        "RENATO SANTOS \n",
        "#75341\n",
        "https://colab.research.google.com/drive/1bXPlXZ16dsqbGIijG7YktwvjSpxB8vde?usp=sharing"
      ],
      "metadata": {
        "id": "iMtECaHxeUYR"
      }
    },
    {
      "cell_type": "markdown",
      "source": [],
      "metadata": {
        "id": "C1v7zhUzprfF"
      }
    },
    {
      "cell_type": "markdown",
      "source": [
        "Questão 1- Classiﬁque os tipos de dados das seguintes variáveis\n",
        "1.    x =5\n",
        "2.   x =5.0\n",
        "3.    x =5.5\n",
        "4.   x ='DNC'\n",
        "5.    x =1/2\n",
        "6.   x =0.5 *2\n",
        "7.   x =2 **4\n",
        "8.   x =2+4\n",
        "9.   x =1000000000\n",
        "10.  Peça para o usuário inputar um dado inteiro e conﬁra o tipo dele\n",
        "11. Peça para o usuário inputar um dado ﬂoat e conﬁra o tipo dele\n",
        "12.  Peça para o usuário inputar um dado string e conﬁra o tipo dele\n",
        "13. Peça para o usuário inputar um dado sem deﬁnir o tipo e conﬁra o tipo dele"
      ],
      "metadata": {
        "id": "lBn4H0h2kdsy"
      }
    },
    {
      "cell_type": "code",
      "execution_count": null,
      "metadata": {
        "colab": {
          "base_uri": "https://localhost:8080/"
        },
        "id": "SxvsDKYxd2Zo",
        "outputId": "95883a19-f0e3-4041-948b-9f14130faa62"
      },
      "outputs": [
        {
          "output_type": "stream",
          "name": "stdout",
          "text": [
            "<class 'int'>\n",
            "<class 'float'>\n",
            "<class 'float'>\n",
            "<class 'str'>\n",
            "<class 'float'>\n",
            "<class 'float'>\n",
            "<class 'int'>\n",
            "<class 'int'>\n",
            "<class 'int'>\n"
          ]
        }
      ],
      "source": [
        "x1 = 5\n",
        "print(type(x1))\n",
        "x2 = 5.0\n",
        "print(type(x2))\n",
        "x3 = 5.5\n",
        "print(type(x3))\n",
        "x4 = 'DNC'\n",
        "print(type(x4))\n",
        "x5 = 1/2\n",
        "print(type(x5))\n",
        "x6 = 0.5 *2\n",
        "print(type(x6))\n",
        "x7 = 2 **4\n",
        "print(type(x7))\n",
        "x8 = 2+4\n",
        "print(type(x8))\n",
        "x9 = 1000000000\n",
        "print(type(x9))"
      ]
    },
    {
      "cell_type": "code",
      "source": [
        "#Peça para o usuário inputar um dado inteiro e conﬁra o tipo dele\n",
        "num = int(input(\"insira um numero inteiro:\" ))\n",
        "print(type(num))"
      ],
      "metadata": {
        "colab": {
          "base_uri": "https://localhost:8080/"
        },
        "id": "ARPatvz5mpeq",
        "outputId": "d144a56d-3dbd-4f60-b498-e44431523a67"
      },
      "execution_count": null,
      "outputs": [
        {
          "output_type": "stream",
          "name": "stdout",
          "text": [
            "insira um numero inteiro:5\n",
            "<class 'int'>\n"
          ]
        }
      ]
    },
    {
      "cell_type": "code",
      "source": [
        "# Peça para o usuário inputar um dado ﬂoat e conﬁra o tipo dele\n",
        "num = float(input(\"digite um numero com casas decimais:\"))\n",
        "print(type(num))"
      ],
      "metadata": {
        "colab": {
          "base_uri": "https://localhost:8080/"
        },
        "id": "IJhgS15BoDAT",
        "outputId": "e27b46a7-7cc7-46e0-fb95-6143f5dab668"
      },
      "execution_count": null,
      "outputs": [
        {
          "output_type": "stream",
          "name": "stdout",
          "text": [
            "digite um numero com casas decimais:5.25896\n",
            "<class 'float'>\n"
          ]
        }
      ]
    },
    {
      "cell_type": "code",
      "source": [
        "#Peça para o usuário inputar um dado string e conﬁra o tipo dele\n",
        "text = str(input(\"Digita algo ai amigão:\"))\n",
        "print(type(text))"
      ],
      "metadata": {
        "colab": {
          "base_uri": "https://localhost:8080/"
        },
        "id": "jx3IyeuUoVUQ",
        "outputId": "7b471671-9359-4e8e-91fb-fdee3f3841eb"
      },
      "execution_count": null,
      "outputs": [
        {
          "output_type": "stream",
          "name": "stdout",
          "text": [
            "Digita algo ai amigão:o nois piao \n",
            "<class 'str'>\n"
          ]
        }
      ]
    },
    {
      "cell_type": "code",
      "source": [
        "#Peça para o usuário inputar um dado sem deﬁnir o tipo e conﬁra o tipo dele\n",
        "sus = input(\"vai com a face no teclado... oque sair já era!!!\")\n",
        "print(type(sus))\n"
      ],
      "metadata": {
        "colab": {
          "base_uri": "https://localhost:8080/"
        },
        "id": "1-kAOtnipAWk",
        "outputId": "7c8a34c3-1250-4ddd-8102-bf361c0b33e1"
      },
      "execution_count": null,
      "outputs": [
        {
          "output_type": "stream",
          "name": "stdout",
          "text": [
            "vai com a face no teclado... oque sair já era!!!af65 10d9f4aef4 e\n",
            "<class 'str'>\n"
          ]
        }
      ]
    },
    {
      "cell_type": "markdown",
      "source": [
        "Questão 2: Faça um print com duas linhas tracejadas acima e duas abaixo com 50 linhas em cada uma delas e no meio coloque \"DS06 - DNC\""
      ],
      "metadata": {
        "id": "IFRmGVacp1wm"
      }
    },
    {
      "cell_type": "code",
      "source": [
        "print('''--------------------------------------------------\n",
        "                - DS06 - DNC -\n",
        "--------------------------------------------------''')"
      ],
      "metadata": {
        "colab": {
          "base_uri": "https://localhost:8080/"
        },
        "id": "_sPw_yAVp3Dx",
        "outputId": "1868ca51-a63e-45c2-8db9-9d3c6cc95941"
      },
      "execution_count": null,
      "outputs": [
        {
          "output_type": "stream",
          "name": "stdout",
          "text": [
            "--------------------------------------------------\n",
            "                - DS06 - DNC -\n",
            "--------------------------------------------------\n"
          ]
        }
      ]
    },
    {
      "cell_type": "markdown",
      "source": [
        "Questão 3. Você acabou de se formar na turma 05 de Formação em dados e conseguiu um emprego de um cientista de dados jr. com um salário de R$10.000,00 mensais. Você quer calcular quanto conseguirá guardar na poupança ao ﬁnal do mês depois que pagar suas contas. Considere os dados abaixo para fazer um print igual ao que está em anexo.\n",
        "\n",
        "salario_cientista_de_dados =10000.00 \n",
        "parcela_bmw =2500.45\n",
        "parcela_apartamento =3500.50 \n",
        "veterinario_romeuzinho =500.00 \n",
        "luz =100.80\n",
        "agua =80.35 \n",
        "condominio =800.44 gas =150.65\n",
        "\n",
        "\n",
        "\n"
      ],
      "metadata": {
        "id": "U-ow12bVrcju"
      }
    },
    {
      "cell_type": "code",
      "source": [
        "soldo = 10000\n",
        "parcela_bmw = 2500.45\n",
        "parcela_apartamento = 3500.50\n",
        "veterinario_romeuzinho = 500.00\n",
        "luz = 100.80\n",
        "agua = 80.35\n",
        "condominio = 800.44\n",
        "gas =150.65\n",
        "gastos = parcela_bmw + parcela_apartamento + veterinario_romeuzinho + luz + agua + condominio + gas\n",
        "poupanca = soldo - gastos \n",
        "print(\"voce pode guardar\" ,poupanca, \"reais na poupanca cabron!!!\")"
      ],
      "metadata": {
        "colab": {
          "base_uri": "https://localhost:8080/",
          "height": 130
        },
        "id": "QZ-4gFjerrEy",
        "outputId": "3942682c-53ac-4a9b-e607-a86666bdef2d"
      },
      "execution_count": null,
      "outputs": [
        {
          "output_type": "error",
          "ename": "SyntaxError",
          "evalue": "ignored",
          "traceback": [
            "\u001b[0;36m  File \u001b[0;32m\"<ipython-input-41-b28396ab453f>\"\u001b[0;36m, line \u001b[0;32m11\u001b[0m\n\u001b[0;31m    print(\"voce pode guardar\" ,{poupanca:.2f}, \"reais na poupanca cabron!!!\")\u001b[0m\n\u001b[0m                                           ^\u001b[0m\n\u001b[0;31mSyntaxError\u001b[0m\u001b[0;31m:\u001b[0m invalid syntax\n"
          ]
        }
      ]
    },
    {
      "cell_type": "markdown",
      "source": [
        "Questão 4: Você é um vendedor de cursos na DNC e os clientes entram em contato com você para adquirir um de nossos seguintes cursos (Com os respectivos valores) e o cliente pode escolher apenas 1,\n",
        "1.Formação_em_dados =20000.00\n",
        "2.Formação_em_projetos =15000.00\n",
        "\n",
        "3.Formação_em_marketing =13000.00\n",
        "4.Formação_em_produto =18000.00\n",
        "5.Formação_em_tecnologia =19000.00\n",
        "Monte um código onde a primeira pergunta será \"Qual curso você quer escolher (1 = Formação_em_dados, 2 =Formação_em_projetos, 3 =Formação_em_marketing, 4= Formação_em_produto, 5 =Formação_em_tecnologia)?\"\n",
        "E de acordo com a escolha, ele entre em um if e emita a seguinte mensagem padrão \"Você escolheu o curso Formação em XXXXX no valor de R$ valor que começará no próximo mês\".\n",
        "Caso o usuário digite um valor diferente dos dispostos, emita a seguinte mensagem \"Digite um valor correspondente a um curso de nossas formações \\n1-Formação em dados \\n2-Formação em projetos\\n3-Formação em marketing\\n4-Formação em produto\\n5-Formação em tecnologia\""
      ],
      "metadata": {
        "id": "q1b7hDGYuOKs"
      }
    },
    {
      "cell_type": "code",
      "source": [
        "\n",
        "c1 = \"Formação_em_dados\"\n",
        "c2 = \"Formação_em_projetos\"\n",
        "c3 = \"Formação_em_marketing\"\n",
        "c4 = \"Formação_em_produto\"\n",
        "c5 = \"Formação_em_tecnologia\"\n",
        "v1 = \"20000.00\"\n",
        "v2 = \"15000.00\"\n",
        "v3 = \"13000.00\"\n",
        "v4 = \"18000.00\"\n",
        "v5 = \"19000.00\"\n",
        "curso = int(input(\"Qual curso você quer escolher 1 = Formação_em_dados, 2 =Formação_em_projetos, 3 =Formação_em_marketing, 4= Formação_em_produto, 5 =Formação_em_tecnologia)?\"))\n",
        "if curso == 1 :\n",
        "    print(\"Você escolheu o curso\", c1 , \"no valor de R$\", v1 , \"que começará no próximo mês\")\n",
        "elif curso == 2 :\n",
        "    print(\"Você escolheu o curso\", c2 , \"no valor de R$\", v2 , \"que começará no próximo mês\")\n",
        "elif curso == 3 :\n",
        "    print(\"Você escolheu o curso\", c2 , \"no valor de R$\", v2 , \"que começará no próximo mês\")\n",
        "elif curso == 4 :\n",
        "    print(\"Você escolheu o curso\", c2 , \"no valor de R$\", v2 , \"que começará no próximo mês\")  \n",
        "elif curso == 5 :\n",
        "    print(\"Você escolheu o curso\", c2 , \"no valor de R$\", v2 , \"que começará no próximo mês\")                \n",
        "else: \n",
        "    input(\"Digite um valor correspondente a um curso de nossas formações \\n1-Formação em dados \\n2-Formação em projetos\\n3-Formação em marketing\\n4-Formação em produto\\n5-Formação em tecnologia\")\n",
        "    \n"
      ],
      "metadata": {
        "colab": {
          "base_uri": "https://localhost:8080/"
        },
        "id": "Ed1FihKouM8U",
        "outputId": "e460c071-2b88-4cbd-b026-95f88bc01a5a"
      },
      "execution_count": null,
      "outputs": [
        {
          "name": "stdout",
          "output_type": "stream",
          "text": [
            "Qual curso você quer escolher 1 = Formação_em_dados, 2 =Formação_em_projetos, 3 =Formação_em_marketing, 4= Formação_em_produto, 5 =Formação_em_tecnologia)?6\n",
            "Digite um valor correspondente a um curso de nossas formações \n",
            "1-Formação em dados \n",
            "2-Formação em projetos\n",
            "3-Formação em marketing\n",
            "4-Formação em produto\n",
            "5-Formação em tecnologia5\n"
          ]
        }
      ]
    },
    {
      "cell_type": "markdown",
      "source": [
        "Questão 5. A DNC pretende faturar 2 milhões em 1 mês. Faça a leitura da quantidade de vendas de cada formação e calcule a receita total de vendas, a receita media geral e verifique se eles bateram a meta mensal utilizando as seguintes mensagens\n",
        "Se bateram: \"Parabéns!!! A DNC bateu a meta do mês\"\n",
        "Se não bateram: \"Esse mês não batemos a meta, porém mês que vem vamos vir mais forte pra recuperar!!!\""
      ],
      "metadata": {
        "id": "mfagucdm6Img"
      }
    },
    {
      "cell_type": "code",
      "source": [
        "dados = int(input('Quantas foram as suas vendas do modulo de dados?'))\n",
        "projetos = int(input('Quantas foram as suas vendas do modulo de projetos?'))\n",
        "marketing = int(input('Quantas foram as suas vendas do modulo de marketing?'))\n",
        "produto = int(input('Quantas foram as suas vendas do modulo de produto?'))\n",
        "tecnologia = int(input('Quantas foram as suas vendas do modulo de tecnologia?'))\n",
        "faturamento = dados*20000 + projetos*15000 + marketing*13000 + produto*18000 + tecnologia*19000\n",
        "\n",
        "if faturamento >= 2000000 :\n",
        "  print('Parabéns!!! A DNC bateu a meta do mês')\n",
        "else: \n",
        "  print(\"Esse mês não batemos a meta, porém mês que vem vamos vir mais forte pra recuperar!!!\")"
      ],
      "metadata": {
        "colab": {
          "base_uri": "https://localhost:8080/"
        },
        "id": "h6HUJhWh6JrK",
        "outputId": "c62b0016-0782-491b-f03a-d932916a5092"
      },
      "execution_count": null,
      "outputs": [
        {
          "output_type": "stream",
          "name": "stdout",
          "text": [
            "Quantas foram as suas vendas do modulo de dados?10\n",
            "Quantas foram as suas vendas do modulo de projetos?25\n",
            "Quantas foram as suas vendas do modulo de marketing?31\n",
            "Quantas foram as suas vendas do modulo de produto?42\n",
            "Quantas foram as suas vendas do modulo de tecnologia?25\n",
            "Parabéns!!! A DNC bateu a meta do mês\n"
          ]
        }
      ]
    },
    {
      "cell_type": "markdown",
      "source": [
        "Questão 6. O aluno da DNC precisa fazer um código que faça a somatória de uma sequência de números um por um, informando no começo do código qual a posição a somatória deve parar. Monte uma estrutura de repetição que resolva esse problema.\n",
        "Exemplo: Ele vai parar no numero 3, então vai somar 1+2+3"
      ],
      "metadata": {
        "id": "B59MEiEQ-BPe"
      }
    },
    {
      "cell_type": "code",
      "source": [
        "n = int(input('Onde a somatoria deve parar: '))\n",
        "\n",
        "for i in range(1,n + 1):\n",
        "  # print(f'{n} X {i} = {n*i}')\n",
        "  print('{} + {} = {}'.format(n,i,n+i))"
      ],
      "metadata": {
        "colab": {
          "base_uri": "https://localhost:8080/"
        },
        "id": "uDoBo0J9-ELq",
        "outputId": "7648b5e7-2811-49ee-b538-286a5312aff2"
      },
      "execution_count": null,
      "outputs": [
        {
          "output_type": "stream",
          "name": "stdout",
          "text": [
            "Onde a somatoria deve parar: 6\n",
            "6 + 1 = 7\n",
            "6 + 2 = 8\n",
            "6 + 3 = 9\n",
            "6 + 4 = 10\n",
            "6 + 5 = 11\n",
            "6 + 6 = 12\n"
          ]
        }
      ]
    }
  ]
}